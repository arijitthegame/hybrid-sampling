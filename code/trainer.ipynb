{
 "cells": [
  {
   "cell_type": "code",
   "execution_count": 1,
   "metadata": {},
   "outputs": [],
   "source": [
    "import os\n",
    "import time\n",
    "import torch\n",
    "import torch.nn as nn\n",
    "from torch.autograd import Variable\n",
    "import math\n",
    "from data_utils import * \n",
    "import model"
   ]
  },
  {
   "cell_type": "code",
   "execution_count": 2,
   "metadata": {},
   "outputs": [],
   "source": [
    "device = torch.device('cuda') if torch.cuda.is_available() else torch.device('cpu')"
   ]
  },
  {
   "cell_type": "code",
   "execution_count": 3,
   "metadata": {},
   "outputs": [],
   "source": [
    "train_batch_size = 32\n",
    "eval_batch_size = 10"
   ]
  },
  {
   "cell_type": "code",
   "execution_count": 4,
   "metadata": {},
   "outputs": [],
   "source": [
    "# Tokenize the data. Give the correct path. For ptb must have ptb in the path. \n",
    "corpus = Corpus('/Users/arijitsehanobish/simple-examples/ptb_data')"
   ]
  },
  {
   "cell_type": "code",
   "execution_count": 5,
   "metadata": {},
   "outputs": [],
   "source": [
    "train_data = batchify(corpus.train, train_batch_size) # size(total_len//bsz, bsz)\n",
    "val_data = batchify(corpus.valid, eval_batch_size)\n",
    "test_data = batchify(corpus.test, eval_batch_size)"
   ]
  },
  {
   "cell_type": "code",
   "execution_count": 6,
   "metadata": {},
   "outputs": [
    {
     "name": "stdout",
     "output_type": "stream",
     "text": [
      "RNNModel(\n",
      "  (drop): Dropout(p=0.5, inplace=False)\n",
      "  (encoder): Embedding(10000, 200)\n",
      "  (rnn): LSTM(200, 128, num_layers=2, dropout=0.5, bidirectional=True)\n",
      "  (decoder): Linear(in_features=256, out_features=10000, bias=True)\n",
      ")\n"
     ]
    }
   ],
   "source": [
    "# Build the model\n",
    "interval = 200 # interval to report\n",
    "ntokens = len(corpus.dictionary)\n",
    "\n",
    "# choose bidirectional vs unidirectional model and other model hyperparameters\n",
    "directions = 2\n",
    "hidden_size = 200\n",
    "output_dim = 128 \n",
    "n_layers = 2\n",
    "net = model.RNNModel(ntokens, hidden_size, output_dim, n_layers, directions=directions, dropout=.5)\n",
    "\n",
    "net.to(device)\n",
    "\n",
    "# Load checkpoint\n",
    "# if args.checkpoint != '':\n",
    "#     model = torch.load(args.checkpoint, map_location=lambda storage, loc: storage)"
   ]
  },
  {
   "cell_type": "code",
   "execution_count": null,
   "metadata": {},
   "outputs": [],
   "source": [
    "lr = .001\n",
    "weight_decay = .0001\n",
    "opt = torch.optim.Adam(net.parameters(), lr=lr, weight_decay=weight_decay)\n",
    "criterion = nn.CrossEntropyLoss()"
   ]
  },
  {
   "cell_type": "code",
   "execution_count": null,
   "metadata": {},
   "outputs": [],
   "source": [
    "def evaluate(data_source):\n",
    "    # Turn on evaluation mode which disables dropout.\n",
    "    with torch.no_grad():\n",
    "        net.eval()\n",
    "        total_loss = 0\n",
    "        ntokens = len(corpus.dictionary)\n",
    "        hidden = net.init_hidden(eval_batch_size, directions=directions) #hidden size(nlayers, bsz, hdsize)\n",
    "        for i in range(0, data_source.size(0) - 1, 64):# iterate over every timestep\n",
    "            data, targets = get_batch(data_source, i)\n",
    "            data, targets = data.to(device), targets.to(device)\n",
    "            output, hidden = net(data, hidden)\n",
    "            # model input and output\n",
    "            # inputdata size(bptt, bsz), and size(bptt, bsz, embsize) after embedding\n",
    "            # output size(bptt*bsz, ntoken)\n",
    "            total_loss += len(data) * criterion(output, targets).data\n",
    "            hidden = repackage_hidden(hidden)\n",
    "        return total_loss / len(data_source)"
   ]
  },
  {
   "cell_type": "code",
   "execution_count": null,
   "metadata": {},
   "outputs": [],
   "source": [
    "### Main trainer \n",
    "n_epochs = 200\n",
    "def train():\n",
    "\n",
    "    net.train()\n",
    "    total_loss = 0\n",
    "    start_time = time.time()\n",
    "   \n",
    "    hidden = net.init_hidden(train_batch_size, directions=directions)\n",
    "   \n",
    "    # train_data size(batchcnt, bsz)\n",
    "    for batch, i in enumerate(range(0, train_data.size(0) - 1, 64)):\n",
    "        data, targets = get_batch(train_data, i)\n",
    "        data, targets = data.to(device), targets.to(device)\n",
    "        # Starting each batch, we detach the hidden state from how it was previously produced.\n",
    "        # If we didn't, the model would try backpropagating all the way to start of the dataset.\n",
    "        hidden = repackage_hidden(hidden)\n",
    "        \n",
    "      \n",
    "        output, hidden = net(data, hidden)\n",
    "        loss = criterion(output, targets)\n",
    "        opt.zero_grad()\n",
    "        loss.backward()\n",
    "\n",
    "        # `clip_grad_norm` helps prevent the exploding gradient problem in RNNs / LSTMs.\n",
    "        torch.nn.utils.clip_grad_norm_(net.parameters(), 1.0)\n",
    "        opt.step()\n",
    "\n",
    "        total_loss += loss.data\n",
    "\n",
    "        if batch % interval == 0 and batch > 0:\n",
    "            cur_loss = total_loss / interval\n",
    "            elapsed = time.time() - start_time\n",
    "            print('| epoch {:3d} | {:5d}/{:5d} batches | ms/batch {:5.2f} | '\n",
    "                    'loss {:5.2f} | ppl {:8.2f}'.format(\n",
    "                epoch, batch, len(train_data) // 64,\n",
    "                elapsed * 1000 / interval, cur_loss, math.exp(cur_loss)))\n",
    "            total_loss = 0\n",
    "            start_time = time.time()\n",
    "\n",
    "# Loop over epochs.\n",
    "\n",
    "best_val_loss = None\n",
    "\n",
    "try:\n",
    "    for epoch in range(1, n_epochs+1):\n",
    "        epoch_start_time = time.time()\n",
    "        train()\n",
    "        val_loss = evaluate(val_data)\n",
    "        print('-' * 89)\n",
    "        print('| end of epoch {:3d} | time: {:5.2f}s | valid loss {:5.2f} | '\n",
    "                'valid ppl {:8.2f}'.format(epoch, (time.time() - epoch_start_time),\n",
    "                                           val_loss, math.exp(val_loss)))\n",
    "        print('-' * 89)\n",
    "        # Save the model if the validation loss is the best we've seen so far.\n",
    "        if not best_val_loss or val_loss < best_val_loss:\n",
    "            ###Fix path\n",
    "            with open('/home/as3837/ptb/lstm', 'wb') as f:\n",
    "                torch.save(model, f)\n",
    "            best_val_loss = val_loss\n",
    "        else:\n",
    "            # Anneal the learning rate if no improvement has been seen in the validation dataset.\n",
    "#             if args.opt == 'SGD' or args.opt == 'Momentum':\n",
    "#                 lr /= 4.0\n",
    "#                 for group in opt.param_groups:\n",
    "#                     group['lr'] = lr\n",
    "            pass\n",
    "\n",
    "###TODO Anneal learning rate \n",
    "except KeyboardInterrupt:\n",
    "    print('-' * 89)\n",
    "    print('Exiting from training early')\n"
   ]
  },
  {
   "cell_type": "code",
   "execution_count": null,
   "metadata": {},
   "outputs": [],
   "source": [
    "## TODO issues with LSTM trained with pytorch 1.7 vs 1.8. Debug later and maps between versions."
   ]
  },
  {
   "cell_type": "code",
   "execution_count": null,
   "metadata": {},
   "outputs": [],
   "source": [
    "test_loss = evaluate(test_data)\n",
    "print('=' * 89)\n",
    "print('| End of training | test loss {:5.2f} | test ppl {:8.2f}'.format(\n",
    "    test_loss, math.exp(test_loss)))\n",
    "print('=' * 89)"
   ]
  },
  {
   "cell_type": "code",
   "execution_count": null,
   "metadata": {},
   "outputs": [],
   "source": []
  }
 ],
 "metadata": {
  "kernelspec": {
   "display_name": "Python 3",
   "language": "python",
   "name": "python3"
  },
  "language_info": {
   "codemirror_mode": {
    "name": "ipython",
    "version": 3
   },
   "file_extension": ".py",
   "mimetype": "text/x-python",
   "name": "python",
   "nbconvert_exporter": "python",
   "pygments_lexer": "ipython3",
   "version": "3.7.4"
  }
 },
 "nbformat": 4,
 "nbformat_minor": 2
}
